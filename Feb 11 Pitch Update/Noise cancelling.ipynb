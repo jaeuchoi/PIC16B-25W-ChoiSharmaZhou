{
 "cells": [
  {
   "cell_type": "markdown",
   "id": "330ebb3d-9158-425d-a369-3cbd5b40a4a2",
   "metadata": {},
   "source": [
    "# Image Processing and Noise Cancelling"
   ]
  },
  {
   "cell_type": "markdown",
   "id": "0748111e-6c38-4326-a4a7-65501f015acc",
   "metadata": {},
   "source": [
    "## Noise reduction by Gaussian blurring\n",
    "Gaussian Blurring is a smoothing technique used in image processing to reduce noise and detail while preserving edges. It is particularly useful in OCR preprocessing to remove background noise, enhance text visibility, and improve segmentation."
   ]
  },
  {
   "cell_type": "code",
   "execution_count": null,
   "id": "332a3568-6057-4e2f-ae5c-7069d48d644b",
   "metadata": {},
   "outputs": [],
   "source": [
    "import cv2\n",
    "img = cv2.imread('image.png', 0)\n",
    "blur = cv2.GaussianBlur(img, (5,5), 0)\n",
    "cv2.imwrite('blurred_image.png', blur)"
   ]
  },
  {
   "cell_type": "markdown",
   "id": "61cde759-a107-4ab1-a6b3-17fc2ac40b52",
   "metadata": {},
   "source": [
    "## Remove shadows and enhance contrast"
   ]
  },
  {
   "cell_type": "markdown",
   "id": "a23e54d2-96cc-4066-a8c5-fac5325b179e",
   "metadata": {},
   "source": [
    "Shadows and uneven lighting can distort text visibility, making OCR models less accurate. By applying morphological transformations, we can remove background shadows while preserving text clarity, significantly improving OCR performance."
   ]
  },
  {
   "cell_type": "code",
   "execution_count": null,
   "id": "6d029496-dfb9-4808-b5b7-033ad83d7efc",
   "metadata": {},
   "outputs": [],
   "source": [
    "import cv2\n",
    "\n",
    "# Load grayscale image\n",
    "img = cv2.imread(\"document.png\", cv2.IMREAD_GRAYSCALE)\n",
    "\n",
    "# Define a rectangular kernel of size (5x5)\n",
    "kernel = cv2.getStructuringElement(cv2.MORPH_RECT, (5,5))\n",
    "\n",
    "# Apply Black Hat transformation to extract dark regions (shadows)\n",
    "blackhat = cv2.morphologyEx(img, cv2.MORPH_BLACKHAT, kernel)\n",
    "\n",
    "# Save and display results\n",
    "cv2.imwrite(\"blackhat_removed.png\", blackhat)\n",
    "cv2.imshow(\"Black Hat Transformation\", blackhat)\n",
    "cv2.waitKey(0)\n",
    "cv2.destroyAllWindows()"
   ]
  },
  {
   "cell_type": "markdown",
   "id": "573faacb-fc70-4dbf-9cc8-c45a4ffbb440",
   "metadata": {},
   "source": [
    "## Contour detection"
   ]
  },
  {
   "cell_type": "markdown",
   "id": "29c8ee59-9383-4870-96b3-a1b3e211d81b",
   "metadata": {},
   "source": [
    "Contour detection is a key technique in image processing for OCR. It helps in segmenting text blocks by identifying the outlines of characters or words. This is useful for cropping out text areas before feeding them to an OCR model."
   ]
  },
  {
   "cell_type": "code",
   "execution_count": null,
   "id": "68c57cd6-d21e-4749-8b89-6cb075ec0996",
   "metadata": {},
   "outputs": [],
   "source": [
    "import cv2\n",
    "\n",
    "# Detect contours in the binary image\n",
    "contours, _ = cv2.findContours(binary, cv2.RETR_EXTERNAL, cv2.CHAIN_APPROX_SIMPLE)\n",
    "\n",
    "# Loop through each detected contour\n",
    "for cnt in contours:\n",
    "    # Get bounding box coordinates (x, y, width, height)\n",
    "    x, y, w, h = cv2.boundingRect(cnt)\n",
    "    \n",
    "    # Crop the detected text region from the image\n",
    "    cropped = img[y:y+h, x:x+w]\n",
    "\n",
    "    # Save each cropped text region as a separate image\n",
    "    cv2.imwrite(f'cropped_{x}.png', cropped)"
   ]
  }
 ],
 "metadata": {
  "kernelspec": {
   "display_name": "Python 3 (ipykernel)",
   "language": "python",
   "name": "python3"
  },
  "language_info": {
   "codemirror_mode": {
    "name": "ipython",
    "version": 3
   },
   "file_extension": ".py",
   "mimetype": "text/x-python",
   "name": "python",
   "nbconvert_exporter": "python",
   "pygments_lexer": "ipython3",
   "version": "3.12.4"
  }
 },
 "nbformat": 4,
 "nbformat_minor": 5
}
