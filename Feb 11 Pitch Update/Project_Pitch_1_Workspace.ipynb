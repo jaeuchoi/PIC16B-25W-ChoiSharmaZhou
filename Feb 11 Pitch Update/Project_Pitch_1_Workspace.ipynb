{
 "cells": [
  {
   "cell_type": "code",
   "execution_count": 1,
   "id": "bcb8fa02-3146-484d-9e67-9cc405fc510e",
   "metadata": {
    "tags": []
   },
   "outputs": [],
   "source": [
    "import pandas as pd\n",
    "from matplotlib import pyplot as plt\n",
    "\n"
   ]
  },
  {
   "cell_type": "code",
   "execution_count": 2,
   "id": "7e97e852-4052-48d3-8161-71165f530181",
   "metadata": {
    "tags": []
   },
   "outputs": [
    {
     "data": {
      "text/plain": [
       "dict_keys(['data', 'target', 'frame', 'feature_names', 'target_names', 'images', 'DESCR'])"
      ]
     },
     "execution_count": 2,
     "metadata": {},
     "output_type": "execute_result"
    }
   ],
   "source": [
    "from sklearn.datasets import load_digits\n",
    "digits = load_digits()\n",
    "digits.keys()"
   ]
  },
  {
   "cell_type": "code",
   "execution_count": 3,
   "id": "67e8a8f5-2b28-45b3-8c46-19541e89e4cf",
   "metadata": {
    "tags": []
   },
   "outputs": [
    {
     "data": {
      "text/plain": [
       "(1797, 64)"
      ]
     },
     "execution_count": 3,
     "metadata": {},
     "output_type": "execute_result"
    }
   ],
   "source": [
    "digits['data'].shape\n"
   ]
  },
  {
   "cell_type": "code",
   "execution_count": 4,
   "id": "4abfdef1-0e77-41a8-9e30-24225c984e59",
   "metadata": {
    "tags": []
   },
   "outputs": [
    {
     "data": {
      "text/plain": [
       "(1797,)"
      ]
     },
     "execution_count": 4,
     "metadata": {},
     "output_type": "execute_result"
    }
   ],
   "source": [
    "digits['target'].shape\n"
   ]
  },
  {
   "cell_type": "code",
   "execution_count": 5,
   "id": "e7fe1b8d-e9e6-4968-a2e1-10423122e3ea",
   "metadata": {
    "tags": []
   },
   "outputs": [
    {
     "data": {
      "text/plain": [
       "[Text(0.5, 1.0, 'True digit: 1')]"
      ]
     },
     "execution_count": 5,
     "metadata": {},
     "output_type": "execute_result"
    },
    {
     "data": {
      "image/png": "[encoded data removed]",
      "text/plain": [
       "<Figure size 640x480 with 1 Axes>"
      ]
     },
     "metadata": {},
     "output_type": "display_data"
    }
   ],
   "source": [
    "fig, ax = plt.subplots(1)\n",
    "i = 200\n",
    "\n",
    "ax.imshow(digits['data'][i].reshape(8, 8), cmap = plt.cm.binary)\n",
    "ax.set(title = \"True digit: \" + str(digits['target'][i]))"
   ]
  },
  {
   "cell_type": "code",
   "execution_count": 6,
   "id": "1f84f2f2-7002-43fc-899f-9323dc259e7c",
   "metadata": {
    "tags": []
   },
   "outputs": [],
   "source": [
    "from sklearn.model_selection import train_test_split\n",
    "X_train, X_test, y_train, y_test = train_test_split(digits.data, digits.target)"
   ]
  },
  {
   "cell_type": "code",
   "execution_count": 7,
   "id": "f1cc1376-ce91-4f2a-b5be-969bdbae371e",
   "metadata": {
    "tags": []
   },
   "outputs": [
    {
     "data": {
      "text/plain": [
       "0.951763405196241"
      ]
     },
     "execution_count": 7,
     "metadata": {},
     "output_type": "execute_result"
    }
   ],
   "source": [
    "from sklearn.linear_model import LogisticRegression\n",
    "from sklearn.model_selection import cross_val_score\n",
    "\n",
    "m = LogisticRegression(random_state = 0, solver = \"liblinear\")\n",
    "cross_val_score(m, X_train, y_train, cv = 10).mean()"
   ]
  },
  {
   "cell_type": "code",
   "execution_count": 8,
   "id": "995ebf96-652e-4ecb-ae51-a31ee3f3b635",
   "metadata": {
    "tags": []
   },
   "outputs": [
    {
     "data": {
      "text/plain": [
       "array([4, 2, 5, ..., 1, 3, 0])"
      ]
     },
     "execution_count": 8,
     "metadata": {},
     "output_type": "execute_result"
    }
   ],
   "source": [
    "m.fit(X_train, y_train)\n",
    "y_train_pred = m.predict(X_train)\n",
    "y_train_pred"
   ]
  },
  {
   "cell_type": "code",
   "execution_count": 9,
   "id": "af3bea9c-a15e-4d65-adec-46a989141285",
   "metadata": {
    "tags": []
   },
   "outputs": [
    {
     "data": {
      "text/plain": [
       "0.9666666666666667"
      ]
     },
     "execution_count": 9,
     "metadata": {},
     "output_type": "execute_result"
    }
   ],
   "source": [
    "m.score(X_test, y_test)\n"
   ]
  },
  {
   "cell_type": "code",
   "execution_count": 10,
   "id": "5aca143a-130d-40c1-a763-3868034a43be",
   "metadata": {
    "tags": []
   },
   "outputs": [
    {
     "data": {
      "text/html": [
       "<style>#sk-container-id-1 {color: black;}#sk-container-id-1 pre{padding: 0;}#sk-container-id-1 div.sk-toggleable {background-color: white;}#sk-container-id-1 label.sk-toggleable__label {cursor: pointer;display: block;width: 100%;margin-bottom: 0;padding: 0.3em;box-sizing: border-box;text-align: center;}#sk-container-id-1 label.sk-toggleable__label-arrow:before {content: \"▸\";float: left;margin-right: 0.25em;color: #696969;}#sk-container-id-1 label.sk-toggleable__label-arrow:hover:before {color: black;}#sk-container-id-1 div.sk-estimator:hover label.sk-toggleable__label-arrow:before {color: black;}#sk-container-id-1 div.sk-toggleable__content {max-height: 0;max-width: 0;overflow: hidden;text-align: left;background-color: #f0f8ff;}#sk-container-id-1 div.sk-toggleable__content pre {margin: 0.2em;color: black;border-radius: 0.25em;background-color: #f0f8ff;}#sk-container-id-1 input.sk-toggleable__control:checked~div.sk-toggleable__content {max-height: 200px;max-width: 100%;overflow: auto;}#sk-container-id-1 input.sk-toggleable__control:checked~label.sk-toggleable__label-arrow:before {content: \"▾\";}#sk-container-id-1 div.sk-estimator input.sk-toggleable__control:checked~label.sk-toggleable__label {background-color: #d4ebff;}#sk-container-id-1 div.sk-label input.sk-toggleable__control:checked~label.sk-toggleable__label {background-color: #d4ebff;}#sk-container-id-1 input.sk-hidden--visually {border: 0;clip: rect(1px 1px 1px 1px);clip: rect(1px, 1px, 1px, 1px);height: 1px;margin: -1px;overflow: hidden;padding: 0;position: absolute;width: 1px;}#sk-container-id-1 div.sk-estimator {font-family: monospace;background-color: #f0f8ff;border: 1px dotted black;border-radius: 0.25em;box-sizing: border-box;margin-bottom: 0.5em;}#sk-container-id-1 div.sk-estimator:hover {background-color: #d4ebff;}#sk-container-id-1 div.sk-parallel-item::after {content: \"\";width: 100%;border-bottom: 1px solid gray;flex-grow: 1;}#sk-container-id-1 div.sk-label:hover label.sk-toggleable__label {background-color: #d4ebff;}#sk-container-id-1 div.sk-serial::before {content: \"\";position: absolute;border-left: 1px solid gray;box-sizing: border-box;top: 0;bottom: 0;left: 50%;z-index: 0;}#sk-container-id-1 div.sk-serial {display: flex;flex-direction: column;align-items: center;background-color: white;padding-right: 0.2em;padding-left: 0.2em;position: relative;}#sk-container-id-1 div.sk-item {position: relative;z-index: 1;}#sk-container-id-1 div.sk-parallel {display: flex;align-items: stretch;justify-content: center;background-color: white;position: relative;}#sk-container-id-1 div.sk-item::before, #sk-container-id-1 div.sk-parallel-item::before {content: \"\";position: absolute;border-left: 1px solid gray;box-sizing: border-box;top: 0;bottom: 0;left: 50%;z-index: -1;}#sk-container-id-1 div.sk-parallel-item {display: flex;flex-direction: column;z-index: 1;position: relative;background-color: white;}#sk-container-id-1 div.sk-parallel-item:first-child::after {align-self: flex-end;width: 50%;}#sk-container-id-1 div.sk-parallel-item:last-child::after {align-self: flex-start;width: 50%;}#sk-container-id-1 div.sk-parallel-item:only-child::after {width: 0;}#sk-container-id-1 div.sk-dashed-wrapped {border: 1px dashed gray;margin: 0 0.4em 0.5em 0.4em;box-sizing: border-box;padding-bottom: 0.4em;background-color: white;}#sk-container-id-1 div.sk-label label {font-family: monospace;font-weight: bold;display: inline-block;line-height: 1.2em;}#sk-container-id-1 div.sk-label-container {text-align: center;}#sk-container-id-1 div.sk-container {/* jupyter's `normalize.less` sets `[hidden] { display: none; }` but bootstrap.min.css set `[hidden] { display: none !important; }` so we also need the `!important` here to be able to override the default hidden behavior on the sphinx rendered scikit-learn.org. See: https://github.com/scikit-learn/scikit-learn/issues/21755 */display: inline-block !important;position: relative;}#sk-container-id-1 div.sk-text-repr-fallback {display: none;}</style><div id=\"sk-container-id-1\" class=\"sk-top-container\"><div class=\"sk-text-repr-fallback\"><pre>MLPClassifier(alpha=1e-05, hidden_layer_sizes=(100, 100, 100, 100),\n",
       "              random_state=0, solver=&#x27;lbfgs&#x27;)</pre><b>In a Jupyter environment, please rerun this cell to show the HTML representation or trust the notebook. <br />On GitHub, the HTML representation is unable to render, please try loading this page with nbviewer.org.</b></div><div class=\"sk-container\" hidden><div class=\"sk-item\"><div class=\"sk-estimator sk-toggleable\"><input class=\"sk-toggleable__control sk-hidden--visually\" id=\"sk-estimator-id-1\" type=\"checkbox\" checked><label for=\"sk-estimator-id-1\" class=\"sk-toggleable__label sk-toggleable__label-arrow\">MLPClassifier</label><div class=\"sk-toggleable__content\"><pre>MLPClassifier(alpha=1e-05, hidden_layer_sizes=(100, 100, 100, 100),\n",
       "              random_state=0, solver=&#x27;lbfgs&#x27;)</pre></div></div></div></div></div>"
      ],
      "text/plain": [
       "MLPClassifier(alpha=1e-05, hidden_layer_sizes=(100, 100, 100, 100),\n",
       "              random_state=0, solver='lbfgs')"
      ]
     },
     "execution_count": 10,
     "metadata": {},
     "output_type": "execute_result"
    }
   ],
   "source": [
    "from sklearn.neural_network import MLPClassifier\n",
    "\n",
    "nn = MLPClassifier(solver = \"lbfgs\",\n",
    "                   alpha = 1e-5, \n",
    "                   hidden_layer_sizes = (100, 100, 100, 100),\n",
    "                   random_state = 0)\n",
    "\n",
    "nn.fit(X_train, y_train)"
   ]
  },
  {
   "cell_type": "code",
   "execution_count": 11,
   "id": "75113757-910e-4a68-bf27-a68410fdee27",
   "metadata": {
    "tags": []
   },
   "outputs": [
    {
     "data": {
      "text/plain": [
       "0.9733333333333334"
      ]
     },
     "execution_count": 11,
     "metadata": {},
     "output_type": "execute_result"
    }
   ],
   "source": [
    "nn.score(X_test, y_test)\n"
   ]
  },
  {
   "cell_type": "code",
   "execution_count": 12,
   "id": "cee996af-de12-423b-addb-29c6c1b5f2de",
   "metadata": {
    "tags": []
   },
   "outputs": [],
   "source": [
    "from sklearn.ensemble import RandomForestClassifier\n",
    "\n",
    "RFC = RandomForestClassifier(n_estimators = 1000)"
   ]
  },
  {
   "cell_type": "code",
   "execution_count": 13,
   "id": "47466ced-ab54-4525-a532-54e91be5f56c",
   "metadata": {
    "tags": []
   },
   "outputs": [
    {
     "data": {
      "text/plain": [
       "0.98"
      ]
     },
     "execution_count": 13,
     "metadata": {},
     "output_type": "execute_result"
    }
   ],
   "source": [
    "RFC.fit(X_train, y_train)\n",
    "RFC.score(X_test, y_test)"
   ]
  },
  {
   "cell_type": "code",
   "execution_count": 20,
   "id": "ff888151-6858-46de-b2bd-fc1305f7fd8f",
   "metadata": {
    "tags": []
   },
   "outputs": [
    {
     "name": "stdout",
     "output_type": "stream",
     "text": [
      "[ 0.  0.  7. 13. 15.  5.  0.  0.  0.  0.  8. 16. 16. 12.  0.  0.  0.  0.\n",
      "  7. 16. 15.  3.  0.  0.  0.  0.  6. 16.  5.  0.  0.  0.  0.  0.  5. 16.\n",
      "  2.  0.  0.  0.  0.  0.  8. 16.  6.  0.  0.  0.  0.  0. 12. 12. 13.  0.\n",
      "  0.  0.  0.  0.  5. 13. 10.  0.  0.  0.] and 129\n"
     ]
    }
   ],
   "source": [
    "# This is a cell for reading the digit files, storing them into np arrays.\n",
    "\n",
    "import numpy as np\n",
    "import glob\n",
    "import os\n",
    "\n",
    "# 1. Specify the folder containing your .txt files\n",
    "folder = \"/Users/jaeuchoi/Downloads/mnist-model/sample-data\"  # Change to your folder path\n",
    "\n",
    "# 2. Get a list of all .txt files in the folder\n",
    "txt_files = glob.glob(os.path.join(folder, \"*.txt\"))\n",
    "\n",
    "# Prepare a list to hold each flattened array, and their filenames in same order\n",
    "flattened_arrays = []\n",
    "filenames = []\n",
    "\n",
    "\n",
    "def get_filename_without_extension(path):\n",
    "  \"\"\"\n",
    "  Returns the base filename without the extension from a given path.\n",
    "  \"\"\"\n",
    "  filename = os.path.basename(path)\n",
    "  name_without_extension, extension = os.path.splitext(filename)\n",
    "  return name_without_extension\n",
    "\n",
    "\n",
    "\n",
    "# 3. Loop over each .txt file, load it, flatten (reshape to single row)\n",
    "for file_path in txt_files:\n",
    "    # Load the data as a NumPy array\n",
    "    data = np.loadtxt(file_path)\n",
    "    \n",
    "    # Reshape to a single row (or you could use data.flatten())\n",
    "    # data.reshape(1, -1) ensures it becomes shape (1, num_elements)\n",
    "    data_row = data.reshape(1, -1)\n",
    "    \n",
    "    # Collect the flattened row\n",
    "    flattened_arrays.append(data_row)\n",
    "    \n",
    "    filenames.append(get_filename_without_extension(file_path))\n",
    "\n",
    "# 4. Stack all rows to form one 2D array\n",
    "# If each file's data has shape (1, n), then combined_data will have shape (num_files, n)\n",
    "combined_data = np.vstack(flattened_arrays)\n",
    "\n",
    "\"\"\"\n",
    "# 5. Save the final 2D array to a text file\n",
    "# Each row corresponds to a single text file\n",
    "output_file = \"combined_data.txt\"\n",
    "np.savetxt(output_file, combined_data, delimiter=\",\", fmt=\"%.6f\")\n",
    "\n",
    "print(f\"Combined data saved to {output_file}. Shape of combined data:\", combined_data.shape)\n",
    "\"\"\"\n",
    "print(f'{combined_data[1]} and {filenames[1]}')"
   ]
  },
  {
   "cell_type": "code",
   "execution_count": 82,
   "id": "c00c5526-3460-4613-8c1a-fc2ceda8e105",
   "metadata": {
    "tags": []
   },
   "outputs": [
    {
     "name": "stdout",
     "output_type": "stream",
     "text": [
      "43\n",
      " Predictions: 7 \n",
      " [7] \n",
      " [7]\n"
     ]
    },
    {
     "data": {
      "text/plain": [
       "[Text(0.5, 1.0, 'True digit: 43')]"
      ]
     },
     "execution_count": 82,
     "metadata": {},
     "output_type": "execute_result"
    },
    {
     "data": {
      "image/png": "[encoded data removed]",
      "text/plain": [
       "<Figure size 640x480 with 1 Axes>"
      ]
     },
     "metadata": {},
     "output_type": "display_data"
    }
   ],
   "source": [
    "# This is a cell for using our trained model to predict number from digit files.\n",
    "\n",
    "# choose random number from np.array of numbers\n",
    "import random\n",
    "\n",
    "index = random.randint(1, len(combined_data))\n",
    "digit_data = combined_data[[index]]\n",
    "digit_number = filenames[index]\n",
    "\n",
    "# debugging\n",
    "# print(f'{digit_data} and {digit_number}')\n",
    "\n",
    "# Predict!\n",
    "\n",
    "print(f'{digit_number}\\n Predictions: {m.predict(digit_data)[0]} \\n {nn.predict(digit_data)} \\n {RFC.predict(digit_data)}')\n",
    "\n",
    "# drawing plot of digit data\n",
    "fig, ax = plt.subplots(1)\n",
    "i = 200\n",
    "\n",
    "ax.imshow(digit_data.reshape(8, 8), cmap = plt.cm.binary)\n",
    "ax.set(title = \"True digit: \" + str(digit_number))"
   ]
  },
  {
   "cell_type": "code",
   "execution_count": 85,
   "id": "87680e2b-da78-4cb2-beea-5c5dd88c0381",
   "metadata": {
    "tags": []
   },
   "outputs": [],
   "source": [
    "\n",
    "def digit_predictor(digit_data, digit_number):\n",
    "    '''\n",
    "    Function that actually predicts digit with digit data and compares with its true value.\n",
    "    \n",
    "    Accepts:\n",
    "    digit data of (64,) (numpy 1-D array)\n",
    "    true number of that digit_data (Int)\n",
    "    \n",
    "    Returns:\n",
    "    prints predicted digit of several models and draws plot of the digit data\n",
    "    '''\n",
    "    \n",
    "    # Change 1-D array to 2-D array with single row\n",
    "    digit_data = digit_data.reshape(1,-1)\n",
    "\n",
    "    # Predict!\n",
    "\n",
    "    print(f'Predictions:\\n1. Logistic Regression: {m.predict(digit_data)[0]}\\n2. Neural Network: {nn.predict(digit_data)[0]}\\n3. Random Forest Classifier: {RFC.predict(digit_data)[0]}')\n",
    "\n",
    "    # drawing plot of digit data\n",
    "    fig, ax = plt.subplots(1)\n",
    "    i = 200\n",
    "\n",
    "    ax.imshow(digit_data.reshape(8, 8), cmap = plt.cm.binary)\n",
    "    ax.set(title = \"True digit: \" + str(digit_number))"
   ]
  },
  {
   "cell_type": "code",
   "execution_count": 68,
   "id": "5b8d678a-9c6b-497d-8eaa-8491607c80c7",
   "metadata": {
    "tags": []
   },
   "outputs": [
    {
     "name": "stdout",
     "output_type": "stream",
     "text": [
      "\n",
      " Predictions: [3] \n",
      " [8] \n",
      " [8]\n"
     ]
    },
    {
     "data": {
      "image/png": "[encoded data removed]",
      "text/plain": [
       "<Figure size 640x480 with 1 Axes>"
      ]
     },
     "metadata": {},
     "output_type": "display_data"
    }
   ],
   "source": [
    "i = random.randint(1, len(digits['data']))\n",
    "digit_predictor(digits['data'][i], digits['target'][i])"
   ]
  },
  {
   "cell_type": "code",
   "execution_count": 75,
   "id": "6f1f9667-f7e9-4df1-bb02-1032dc98b0d7",
   "metadata": {
    "tags": []
   },
   "outputs": [],
   "source": [
    "import numpy as np\n",
    "from PIL import Image\n",
    "\n",
    "def image_to_8x8_array(filepath):\n",
    "    \"\"\"\n",
    "    Convert a handwritten digit image (at 'filepath') into an 8x8 grayscale\n",
    "    array where 0 = white and 16 = black.\n",
    "    \"\"\"\n",
    "    # 1. Load image and convert to grayscale (0=black, 255=white by default)\n",
    "    img = Image.open(filepath).convert(\"L\")\n",
    "    \n",
    "    # 2. Resize to 8x8\n",
    "    img = img.resize((8, 8), resample=1) # resample = 1 means downscaling uses LANCZOS algorithm\n",
    "    \n",
    "    # 3. Convert to a NumPy array of shape (8,8), range 0–255\n",
    "    arr = np.array(img)\n",
    "    \n",
    "    # 4. Invert if you want 0 for white, 255 for black\n",
    "    #    Since by default 0=black and 255=white in Pillow,\n",
    "    #    we flip it so 0=white and 255=black:\n",
    "    arr_inverted = 255 - arr\n",
    "    \n",
    "    # 5. Scale from [0..255] to [0..16]\n",
    "    #    Using integer division (floor) for discrete levels\n",
    "    arr_8x8 = arr_inverted // 16  # integer in [0..16]\n",
    "\n",
    "    return arr_8x8\n",
    "\n",
    "\n"
   ]
  },
  {
   "cell_type": "code",
   "execution_count": 77,
   "id": "66e9ca2e-9bff-4d4b-ab8c-e3be6c1fad45",
   "metadata": {
    "tags": []
   },
   "outputs": [
    {
     "name": "stdout",
     "output_type": "stream",
     "text": [
      "[[ 0  0  1  7  6  0  0  0]\n",
      " [ 0  0 10  7  8  9  0  0]\n",
      " [ 0  1 12  0  0 12  0  0]\n",
      " [ 0  0  6 11 11  5  0  0]\n",
      " [ 0  0  9  6  6  9  0  0]\n",
      " [ 0  3 12  0  0 12  1  0]\n",
      " [ 0  0 11  7  8 11  0  0]\n",
      " [ 0  0  1  7  7  1  0  0]]\n",
      "Array shape: (8, 8)\n",
      "Unique values: [ 0  1  3  5  6  7  8  9 10 11 12]\n"
     ]
    }
   ],
   "source": [
    "# Example usage:\n",
    "\n",
    "file_path = \"8.png\"  # replace with your actual image file\n",
    "digit_array = image_to_8x8_array(file_path)\n",
    "print(digit_array)\n",
    "print(\"Array shape:\", digit_array.shape)\n",
    "print(\"Unique values:\", np.unique(digit_array))"
   ]
  },
  {
   "cell_type": "code",
   "execution_count": 86,
   "id": "7cf304fc-d70b-4420-b46d-f3977c9e5bc7",
   "metadata": {
    "tags": []
   },
   "outputs": [
    {
     "name": "stdout",
     "output_type": "stream",
     "text": [
      "Predictions:\n",
      "1. Logistic Regression: 8\n",
      "2. Neural Network: 8\n",
      "3. Random Forest Classifier: 8\n"
     ]
    },
    {
     "data": {
      "image/png": "[encoded data removed]",
      "text/plain": [
       "<Figure size 640x480 with 1 Axes>"
      ]
     },
     "metadata": {},
     "output_type": "display_data"
    }
   ],
   "source": [
    "digit_array = digit_array.reshape(1,-1)\n",
    "digit_predictor(digit_array, 8)"
   ]
  },
  {
   "cell_type": "code",
   "execution_count": 87,
   "id": "cc3607b5-c404-4221-966d-aff01c96bea0",
   "metadata": {
    "tags": []
   },
   "outputs": [],
   "source": [
    "import pickle\n",
    "\n",
    "# Save each trained model\n",
    "with open(\"logistic_regression_model.pkl\", \"wb\") as f:\n",
    "    pickle.dump(m, f)\n",
    "\n",
    "with open(\"neural_network_model.pkl\", \"wb\") as f:\n",
    "    pickle.dump(nn, f)\n",
    "\n",
    "with open(\"random_forest_model.pkl\", \"wb\") as f:\n",
    "    pickle.dump(RFC, f)"
   ]
  },
  {
   "cell_type": "code",
   "execution_count": null,
   "id": "d938869b-bf84-480f-bf9d-b62e05f61791",
   "metadata": {},
   "outputs": [],
   "source": []
  }
 ],
 "metadata": {
  "kernelspec": {
   "display_name": "Python [conda env:PIC16B-25W] *",
   "language": "python",
   "name": "conda-env-PIC16B-25W-py"
  },
  "language_info": {
   "codemirror_mode": {
    "name": "ipython",
    "version": 3
   },
   "file_extension": ".py",
   "mimetype": "text/x-python",
   "name": "python",
   "nbconvert_exporter": "python",
   "pygments_lexer": "ipython3",
   "version": "3.11.6"
  }
 },
 "nbformat": 4,
 "nbformat_minor": 5
}
